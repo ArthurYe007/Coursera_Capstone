{
 "cells": [
  {
   "cell_type": "markdown",
   "metadata": {},
   "source": [
    "# **CAPSTONE PROJECT**"
   ]
  },
  {
   "cell_type": "markdown",
   "metadata": {},
   "source": [
    "## **By Arthur Ye**"
   ]
  },
  {
   "cell_type": "markdown",
   "metadata": {},
   "source": [
    "<img src=\"https://scontent.fsan1-1.fna.fbcdn.net/v/t1.0-9/p720x720/82957017_2950790718277850_5324816671653756928_o.jpg?_nc_cat=106&_nc_ohc=Pvp6ilX5GS4AX-Rwe2m&_nc_ht=scontent.fsan1-1.fna&_nc_tp=6&oh=deb89b0f9edee6c1947741bed11be7a0&oe=5ED6F94B\">"
   ]
  },
  {
   "cell_type": "markdown",
   "metadata": {},
   "source": [
    "##   "
   ]
  },
  {
   "cell_type": "markdown",
   "metadata": {},
   "source": [
    "## __Introduction__"
   ]
  },
  {
   "cell_type": "markdown",
   "metadata": {},
   "source": [
    "### New York City(NYC), 40.7128° N, 74.0060° W, is the most populous city in the United States, with a population of 8.6 million estimated in 2019 distributed over a land area of 303 square miles. There are 5 boroughs within NYC confined by the Hudson River and the Atlantic Ocean. At its center is Manhattan, a densely populated city that is one of the world's largest commercial, cultural and financial district. Being the financial center of United States, NYC records an average Gross Domestic Product (GDP) of US$842.3 billion. \n",
    "\n",
    "### In this particular capstone project, one is looking to open a restaurant in NYC, based on the valuable and available data online,to provide detailed analysis in order to recommend the location. Similarly, if a contractor is trying to start a business in NYC, where would be an ideal neighborhood to launch the business. \n",
    "\n",
    "<img src=\"https://miro.medium.com/max/1200/1*o77vgUxSopaFSuqa5UFBCw.gif\">"
   ]
  },
  {
   "cell_type": "markdown",
   "metadata": {},
   "source": [
    "##  "
   ]
  },
  {
   "cell_type": "markdown",
   "metadata": {},
   "source": [
    "## __Data__"
   ]
  },
  {
   "cell_type": "markdown",
   "metadata": {},
   "source": [
    "### data from Wikipedia will be utilized for the purpose of this project. The available source is called \"List of towns in New York (state)\". The shapefile was created to project populations at a small area level, from 2000 to 2030 for PlaNYC, the long-term sustainability plan for New York City. Since population size affects the error associated with population projections, these geographic units needed to have a minimum population, which we determined to be 15,000. This criterion resulted in combinations of neighborhoods that probably would not occur if one were solely designating boundaries of historical neighborhoods. \n",
    "\n",
    "### **\"https://en.wikipedia.org/wiki/List_of_towns_in_New_York_(state)\"**\n",
    "\n",
    "\n",
    "### On the other hand, \"2014 New York City Neighborhood Names\" data is also obtained from NYU to identify the 306 neighborhoods within 5 boroughs in NYC. The file was created at a guide to the NYC's neighborhoods that appear on the web source, which includes information such as industry structure, population, area, trade value and etc. \n",
    "\n",
    "### **https://geo.nyu.edu/catalog/nyu-2451-34572**\n",
    "\n",
    "\n",
    "### Lastly, Foursquare API, a local search-and-discovery mobile application developed by Foursquare Labs Inc. The application provides personalized recommendations of places using user's current location, based on users' previous browsing history and check-in history. \n",
    "\n",
    "### **https://developer.foursquare.com/docs/api/endpoints**"
   ]
  },
  {
   "cell_type": "code",
   "execution_count": 2,
   "metadata": {},
   "outputs": [
    {
     "name": "stdout",
     "output_type": "stream",
     "text": [
      "Collecting beautifulSoup4\n",
      "\u001b[?25l  Downloading https://files.pythonhosted.org/packages/cb/a1/c698cf319e9cfed6b17376281bd0efc6bfc8465698f54170ef60a485ab5d/beautifulsoup4-4.8.2-py3-none-any.whl (106kB)\n",
      "\u001b[K     |████████████████████████████████| 112kB 29.3MB/s eta 0:00:01\n",
      "\u001b[?25hCollecting soupsieve>=1.2 (from beautifulSoup4)\n",
      "  Downloading https://files.pythonhosted.org/packages/81/94/03c0f04471fc245d08d0a99f7946ac228ca98da4fa75796c507f61e688c2/soupsieve-1.9.5-py2.py3-none-any.whl\n",
      "Installing collected packages: soupsieve, beautifulSoup4\n",
      "Successfully installed beautifulSoup4-4.8.2 soupsieve-1.9.5\n",
      "Collecting lxml\n",
      "\u001b[?25l  Downloading https://files.pythonhosted.org/packages/dd/ba/a0e6866057fc0bbd17192925c1d63a3b85cf522965de9bc02364d08e5b84/lxml-4.5.0-cp36-cp36m-manylinux1_x86_64.whl (5.8MB)\n",
      "\u001b[K     |████████████████████████████████| 5.8MB 29.0MB/s eta 0:00:01\n",
      "\u001b[?25hInstalling collected packages: lxml\n",
      "Successfully installed lxml-4.5.0\n",
      "Requirement already satisfied: html5lib in /home/jupyterlab/conda/envs/python/lib/python3.6/site-packages (0.9999999)\n",
      "Requirement already satisfied: six in /home/jupyterlab/conda/envs/python/lib/python3.6/site-packages (from html5lib) (1.13.0)\n",
      "Collecting opencage\n",
      "  Downloading https://files.pythonhosted.org/packages/6d/f2/ed48d7e2fbd06f0ac8dbd511fecc233b68b523daccaae9fb1e6e56b240d4/opencage-1.2-py3-none-any.whl\n",
      "Requirement already satisfied: six>=1.4.0 in /home/jupyterlab/conda/envs/python/lib/python3.6/site-packages (from opencage) (1.13.0)\n",
      "Requirement already satisfied: Requests>=2.2.0 in /home/jupyterlab/conda/envs/python/lib/python3.6/site-packages (from opencage) (2.22.0)\n",
      "Requirement already satisfied: urllib3!=1.25.0,!=1.25.1,<1.26,>=1.21.1 in /home/jupyterlab/conda/envs/python/lib/python3.6/site-packages (from Requests>=2.2.0->opencage) (1.25.7)\n",
      "Requirement already satisfied: chardet<3.1.0,>=3.0.2 in /home/jupyterlab/conda/envs/python/lib/python3.6/site-packages (from Requests>=2.2.0->opencage) (3.0.4)\n",
      "Requirement already satisfied: idna<2.9,>=2.5 in /home/jupyterlab/conda/envs/python/lib/python3.6/site-packages (from Requests>=2.2.0->opencage) (2.8)\n",
      "Requirement already satisfied: certifi>=2017.4.17 in /home/jupyterlab/conda/envs/python/lib/python3.6/site-packages (from Requests>=2.2.0->opencage) (2019.9.11)\n",
      "Installing collected packages: opencage\n",
      "Successfully installed opencage-1.2\n",
      "Matplotlib version:  3.1.1\n",
      "Libraries imported\n"
     ]
    }
   ],
   "source": [
    "import requests #Library to handle requests\n",
    "!pip install beautifulSoup4 # library to parse HTML and XML documents\n",
    "from bs4 import BeautifulSoup #library of beautifulsoup\n",
    "!pip install lxml #library of lxml\n",
    "!pip install html5lib #library of html\n",
    "from urllib.request import urlopen #library of URL\n",
    "\n",
    "import numpy as np\n",
    "import pandas as pd # library for data analsysis\n",
    "pd.set_option(\"display.max_columns\", None)\n",
    "pd.set_option(\"display.max_rows\", None)\n",
    "\n",
    "#Command to install OpenCage Geocoder for fetching Lat and Long of Neighborhood\n",
    "!pip install opencage\n",
    "\n",
    "#Importing OpenCage Geocoder\n",
    "from opencage.geocoder import OpenCageGeocode\n",
    "\n",
    "#Use the inline backend to generate the plots within the browser\n",
    "%matplotlib inline \n",
    "\n",
    "#Importing Matplot lib and associated packages to perform Data Visualisation and Exploratory Data Analysis\n",
    "import matplotlib as mpl\n",
    "import matplotlib.pyplot as plt\n",
    "\n",
    "mpl.style.use('ggplot') # optional: for ggplot-like style\n",
    "\n",
    "#Check for latest version of Matplotlib\n",
    "print ('Matplotlib version: ', mpl.__version__) # >= 2.0.0\n",
    "\n",
    "#Matplotlib and associated plotting modules\n",
    "import matplotlib.cm as cm\n",
    "import matplotlib.colors as colors\n",
    "\n",
    "#Importing folium to visualise Maps and plot based on Lat and Lng\n",
    "import folium\n",
    "\n",
    "#To normalise data returned by FourSquare API\n",
    "from pandas.io.json import json_normalize\n",
    "\n",
    "#Importing KMeans from SciKit library to Classify neighborhoods into clusters\n",
    "from sklearn.cluster import KMeans\n",
    "\n",
    "print('Libraries imported')"
   ]
  },
  {
   "cell_type": "markdown",
   "metadata": {},
   "source": [
    "##  "
   ]
  },
  {
   "cell_type": "code",
   "execution_count": 3,
   "metadata": {},
   "outputs": [],
   "source": [
    "url=\"https://en.wikipedia.org/wiki/List_of_postal_codes_of_Canada:_M\"\n",
    "page=urlopen(url).read().decode('utf-8')\n",
    "soup=BeautifulSoup(page,'html.parser')\n",
    "req_table=soup.body.table.tbody"
   ]
  },
  {
   "cell_type": "code",
   "execution_count": 4,
   "metadata": {},
   "outputs": [],
   "source": [
    "#Data parsing\n",
    "def req_cell(element):\n",
    "    cells = element.find_all('td')\n",
    "    row = []\n",
    "    \n",
    "    for cell in cells:\n",
    "        if cell.a:            \n",
    "            if (cell.a.text):\n",
    "                row.append(cell.a.text)\n",
    "                continue\n",
    "        row.append(cell.string.strip())\n",
    "        \n",
    "    return row"
   ]
  },
  {
   "cell_type": "code",
   "execution_count": 5,
   "metadata": {},
   "outputs": [],
   "source": [
    "def req_row():    \n",
    "    data = []  \n",
    "    \n",
    "    for tr in req_table.find_all('tr'):\n",
    "        row = req_cell(tr)\n",
    "        if len(row) != 3:\n",
    "            continue\n",
    "        data.append(row)        \n",
    "    \n",
    "    return data"
   ]
  },
  {
   "cell_type": "code",
   "execution_count": 6,
   "metadata": {},
   "outputs": [
    {
     "data": {
      "text/html": [
       "<div>\n",
       "<style scoped>\n",
       "    .dataframe tbody tr th:only-of-type {\n",
       "        vertical-align: middle;\n",
       "    }\n",
       "\n",
       "    .dataframe tbody tr th {\n",
       "        vertical-align: top;\n",
       "    }\n",
       "\n",
       "    .dataframe thead th {\n",
       "        text-align: right;\n",
       "    }\n",
       "</style>\n",
       "<table border=\"1\" class=\"dataframe\">\n",
       "  <thead>\n",
       "    <tr style=\"text-align: right;\">\n",
       "      <th></th>\n",
       "      <th>Postcode</th>\n",
       "      <th>Borough</th>\n",
       "      <th>Neighbourhood</th>\n",
       "    </tr>\n",
       "  </thead>\n",
       "  <tbody>\n",
       "    <tr>\n",
       "      <th>0</th>\n",
       "      <td>M1A</td>\n",
       "      <td>Not assigned</td>\n",
       "      <td>Not assigned</td>\n",
       "    </tr>\n",
       "    <tr>\n",
       "      <th>1</th>\n",
       "      <td>M2A</td>\n",
       "      <td>Not assigned</td>\n",
       "      <td>Not assigned</td>\n",
       "    </tr>\n",
       "    <tr>\n",
       "      <th>2</th>\n",
       "      <td>M3A</td>\n",
       "      <td>North York</td>\n",
       "      <td>Parkwoods</td>\n",
       "    </tr>\n",
       "    <tr>\n",
       "      <th>3</th>\n",
       "      <td>M4A</td>\n",
       "      <td>North York</td>\n",
       "      <td>Victoria Village</td>\n",
       "    </tr>\n",
       "    <tr>\n",
       "      <th>4</th>\n",
       "      <td>M5A</td>\n",
       "      <td>Downtown Toronto</td>\n",
       "      <td>Harbourfront</td>\n",
       "    </tr>\n",
       "  </tbody>\n",
       "</table>\n",
       "</div>"
      ],
      "text/plain": [
       "  Postcode           Borough     Neighbourhood\n",
       "0      M1A      Not assigned      Not assigned\n",
       "1      M2A      Not assigned      Not assigned\n",
       "2      M3A        North York         Parkwoods\n",
       "3      M4A        North York  Victoria Village\n",
       "4      M5A  Downtown Toronto      Harbourfront"
      ]
     },
     "execution_count": 6,
     "metadata": {},
     "output_type": "execute_result"
    }
   ],
   "source": [
    "data = req_row()\n",
    "columns = ['Postcode', 'Borough', 'Neighbourhood']\n",
    "df = pd.DataFrame(data, columns=columns)\n",
    "df.head()"
   ]
  },
  {
   "cell_type": "code",
   "execution_count": 7,
   "metadata": {},
   "outputs": [
    {
     "data": {
      "text/html": [
       "<div>\n",
       "<style scoped>\n",
       "    .dataframe tbody tr th:only-of-type {\n",
       "        vertical-align: middle;\n",
       "    }\n",
       "\n",
       "    .dataframe tbody tr th {\n",
       "        vertical-align: top;\n",
       "    }\n",
       "\n",
       "    .dataframe thead th {\n",
       "        text-align: right;\n",
       "    }\n",
       "</style>\n",
       "<table border=\"1\" class=\"dataframe\">\n",
       "  <thead>\n",
       "    <tr style=\"text-align: right;\">\n",
       "      <th></th>\n",
       "      <th>Postcode</th>\n",
       "      <th>Borough</th>\n",
       "      <th>Neighbourhood</th>\n",
       "    </tr>\n",
       "  </thead>\n",
       "  <tbody>\n",
       "    <tr>\n",
       "      <th>0</th>\n",
       "      <td>M1B</td>\n",
       "      <td>Scarborough</td>\n",
       "      <td>Rouge</td>\n",
       "    </tr>\n",
       "    <tr>\n",
       "      <th>1</th>\n",
       "      <td>M1B</td>\n",
       "      <td>Scarborough</td>\n",
       "      <td>Malvern</td>\n",
       "    </tr>\n",
       "    <tr>\n",
       "      <th>2</th>\n",
       "      <td>M1C</td>\n",
       "      <td>Scarborough</td>\n",
       "      <td>Highland Creek</td>\n",
       "    </tr>\n",
       "    <tr>\n",
       "      <th>3</th>\n",
       "      <td>M1C</td>\n",
       "      <td>Scarborough</td>\n",
       "      <td>Rouge Hill</td>\n",
       "    </tr>\n",
       "    <tr>\n",
       "      <th>4</th>\n",
       "      <td>M1C</td>\n",
       "      <td>Scarborough</td>\n",
       "      <td>Port Union</td>\n",
       "    </tr>\n",
       "  </tbody>\n",
       "</table>\n",
       "</div>"
      ],
      "text/plain": [
       "  Postcode      Borough   Neighbourhood\n",
       "0      M1B  Scarborough           Rouge\n",
       "1      M1B  Scarborough         Malvern\n",
       "2      M1C  Scarborough  Highland Creek\n",
       "3      M1C  Scarborough      Rouge Hill\n",
       "4      M1C  Scarborough      Port Union"
      ]
     },
     "execution_count": 7,
     "metadata": {},
     "output_type": "execute_result"
    }
   ],
   "source": [
    "df_req = df[df.Borough != 'Not assigned']\n",
    "df_req = df_req.sort_values(by=['Postcode','Borough'])\n",
    "df_req.reset_index(inplace=True)\n",
    "df_req.drop('index',axis=1,inplace=True)\n",
    "df_req.head()"
   ]
  },
  {
   "cell_type": "code",
   "execution_count": 87,
   "metadata": {},
   "outputs": [
    {
     "data": {
      "text/html": [
       "<div>\n",
       "<style scoped>\n",
       "    .dataframe tbody tr th:only-of-type {\n",
       "        vertical-align: middle;\n",
       "    }\n",
       "\n",
       "    .dataframe tbody tr th {\n",
       "        vertical-align: top;\n",
       "    }\n",
       "\n",
       "    .dataframe thead th {\n",
       "        text-align: right;\n",
       "    }\n",
       "</style>\n",
       "<table border=\"1\" class=\"dataframe\">\n",
       "  <thead>\n",
       "    <tr style=\"text-align: right;\">\n",
       "      <th></th>\n",
       "      <th>0</th>\n",
       "      <th>1</th>\n",
       "      <th>2</th>\n",
       "      <th>3</th>\n",
       "      <th>4</th>\n",
       "      <th>5</th>\n",
       "      <th>6</th>\n",
       "      <th>7</th>\n",
       "      <th>8</th>\n",
       "      <th>9</th>\n",
       "      <th>10</th>\n",
       "      <th>11</th>\n",
       "      <th>12</th>\n",
       "      <th>13</th>\n",
       "      <th>14</th>\n",
       "    </tr>\n",
       "  </thead>\n",
       "  <tbody>\n",
       "    <tr>\n",
       "      <th>0</th>\n",
       "      <td>Town</td>\n",
       "      <td>County</td>\n",
       "      <td>Pop.(2010)</td>\n",
       "      <td>Land(sq mi)</td>\n",
       "      <td>Water(sq mi)</td>\n",
       "      <td>Coordinates</td>\n",
       "      <td>GEO ID(FIPS code)</td>\n",
       "      <td>ANSI code(GNIS ID)</td>\n",
       "      <td>None</td>\n",
       "      <td>None</td>\n",
       "      <td>None</td>\n",
       "      <td>None</td>\n",
       "      <td>None</td>\n",
       "      <td>None</td>\n",
       "      <td>None</td>\n",
       "    </tr>\n",
       "    <tr>\n",
       "      <th>1</th>\n",
       "      <td>Adams</td>\n",
       "      <td>Jefferson</td>\n",
       "      <td>5,143</td>\n",
       "      <td>42.270</td>\n",
       "      <td>0.153</td>\n",
       "      <td>43.844658, -76.054289</td>\n",
       "      <td>3604500210</td>\n",
       "      <td>00978655</td>\n",
       "      <td>None</td>\n",
       "      <td>None</td>\n",
       "      <td>None</td>\n",
       "      <td>None</td>\n",
       "      <td>None</td>\n",
       "      <td>None</td>\n",
       "      <td>None</td>\n",
       "    </tr>\n",
       "    <tr>\n",
       "      <th>2</th>\n",
       "      <td>Addison</td>\n",
       "      <td>Steuben</td>\n",
       "      <td>2,595</td>\n",
       "      <td>25.545</td>\n",
       "      <td>0.142</td>\n",
       "      <td>42.132164, -77.234422</td>\n",
       "      <td>3610100287</td>\n",
       "      <td>00978656</td>\n",
       "      <td>None</td>\n",
       "      <td>None</td>\n",
       "      <td>None</td>\n",
       "      <td>None</td>\n",
       "      <td>None</td>\n",
       "      <td>None</td>\n",
       "      <td>None</td>\n",
       "    </tr>\n",
       "    <tr>\n",
       "      <th>3</th>\n",
       "      <td>Afton</td>\n",
       "      <td>Chenango</td>\n",
       "      <td>2,851</td>\n",
       "      <td>45.836</td>\n",
       "      <td>0.679</td>\n",
       "      <td>42.226305, -75.526838</td>\n",
       "      <td>3601700353</td>\n",
       "      <td>00978657</td>\n",
       "      <td>None</td>\n",
       "      <td>None</td>\n",
       "      <td>None</td>\n",
       "      <td>None</td>\n",
       "      <td>None</td>\n",
       "      <td>None</td>\n",
       "      <td>None</td>\n",
       "    </tr>\n",
       "    <tr>\n",
       "      <th>4</th>\n",
       "      <td>Alabama</td>\n",
       "      <td>Genesee</td>\n",
       "      <td>1,869</td>\n",
       "      <td>42.370</td>\n",
       "      <td>0.406</td>\n",
       "      <td>43.090053, -78.366480</td>\n",
       "      <td>3603700474</td>\n",
       "      <td>00978658</td>\n",
       "      <td>None</td>\n",
       "      <td>None</td>\n",
       "      <td>None</td>\n",
       "      <td>None</td>\n",
       "      <td>None</td>\n",
       "      <td>None</td>\n",
       "      <td>None</td>\n",
       "    </tr>\n",
       "  </tbody>\n",
       "</table>\n",
       "</div>"
      ],
      "text/plain": [
       "         0          1           2            3             4  \\\n",
       "0     Town     County  Pop.(2010)  Land(sq mi)  Water(sq mi)   \n",
       "1    Adams  Jefferson       5,143       42.270         0.153   \n",
       "2  Addison    Steuben       2,595       25.545         0.142   \n",
       "3    Afton   Chenango       2,851       45.836         0.679   \n",
       "4  Alabama    Genesee       1,869       42.370         0.406   \n",
       "\n",
       "                       5                  6                   7     8     9  \\\n",
       "0            Coordinates  GEO ID(FIPS code)  ANSI code(GNIS ID)  None  None   \n",
       "1  43.844658, -76.054289         3604500210            00978655  None  None   \n",
       "2  42.132164, -77.234422         3610100287            00978656  None  None   \n",
       "3  42.226305, -75.526838         3601700353            00978657  None  None   \n",
       "4  43.090053, -78.366480         3603700474            00978658  None  None   \n",
       "\n",
       "     10    11    12    13    14  \n",
       "0  None  None  None  None  None  \n",
       "1  None  None  None  None  None  \n",
       "2  None  None  None  None  None  \n",
       "3  None  None  None  None  None  \n",
       "4  None  None  None  None  None  "
      ]
     },
     "execution_count": 87,
     "metadata": {},
     "output_type": "execute_result"
    }
   ],
   "source": [
    "df = pd.DataFrame(arrRowData)\n",
    "df.head()"
   ]
  },
  {
   "cell_type": "markdown",
   "metadata": {},
   "source": [
    "## __Methodology__\n",
    "\n",
    "### fortunately, the data obtained from NYU are in Json format, which means it can be easily transferred and interpreted by Jupyter Note Book. However, the data will require some wangling and clean-up work with Pandas dataframe. Applying Foursquare API, the project will identify the key venues of each cities in NYC, by obtaining their longitude and latitude values, specifically those related to economic activities, to identify the more common types of venues in each cities. In combination with the \"2016 ew York City Neighborhood Tabulation Area\" data, the study will perform clustering analysis on the citiies to separate the cities in total into various clusters, and identify each of their strategic strength area through analysis of their characterstics. Furthermore, by applying folium package, a geographical map can be demonstrated to visualize the clusters of venues. "
   ]
  },
  {
   "cell_type": "code",
   "execution_count": 9,
   "metadata": {},
   "outputs": [
    {
     "data": {
      "text/html": [
       "<div>\n",
       "<style scoped>\n",
       "    .dataframe tbody tr th:only-of-type {\n",
       "        vertical-align: middle;\n",
       "    }\n",
       "\n",
       "    .dataframe tbody tr th {\n",
       "        vertical-align: top;\n",
       "    }\n",
       "\n",
       "    .dataframe thead th {\n",
       "        text-align: right;\n",
       "    }\n",
       "</style>\n",
       "<table border=\"1\" class=\"dataframe\">\n",
       "  <thead>\n",
       "    <tr style=\"text-align: right;\">\n",
       "      <th></th>\n",
       "      <th>Postcode</th>\n",
       "      <th>Borough</th>\n",
       "      <th>Neighbourhood</th>\n",
       "    </tr>\n",
       "  </thead>\n",
       "  <tbody>\n",
       "    <tr>\n",
       "      <th>0</th>\n",
       "      <td>M1B</td>\n",
       "      <td>Scarborough</td>\n",
       "      <td>Rouge,Malvern</td>\n",
       "    </tr>\n",
       "    <tr>\n",
       "      <th>1</th>\n",
       "      <td>M1C</td>\n",
       "      <td>Scarborough</td>\n",
       "      <td>Highland Creek,Rouge Hill,Port Union</td>\n",
       "    </tr>\n",
       "    <tr>\n",
       "      <th>2</th>\n",
       "      <td>M1E</td>\n",
       "      <td>Scarborough</td>\n",
       "      <td>Guildwood,Morningside,West Hill</td>\n",
       "    </tr>\n",
       "    <tr>\n",
       "      <th>3</th>\n",
       "      <td>M1G</td>\n",
       "      <td>Scarborough</td>\n",
       "      <td>Woburn</td>\n",
       "    </tr>\n",
       "    <tr>\n",
       "      <th>4</th>\n",
       "      <td>M1H</td>\n",
       "      <td>Scarborough</td>\n",
       "      <td>Cedarbrae</td>\n",
       "    </tr>\n",
       "  </tbody>\n",
       "</table>\n",
       "</div>"
      ],
      "text/plain": [
       "  Postcode      Borough                         Neighbourhood\n",
       "0      M1B  Scarborough                         Rouge,Malvern\n",
       "1      M1C  Scarborough  Highland Creek,Rouge Hill,Port Union\n",
       "2      M1E  Scarborough       Guildwood,Morningside,West Hill\n",
       "3      M1G  Scarborough                                Woburn\n",
       "4      M1H  Scarborough                             Cedarbrae"
      ]
     },
     "execution_count": 9,
     "metadata": {},
     "output_type": "execute_result"
    }
   ],
   "source": [
    "df_postcodes = df_req['Postcode']\n",
    "df_postcodes.drop_duplicates(inplace=True)\n",
    "df_req2 = pd.DataFrame(df_postcodes)\n",
    "df_req2['Borough'] = '';\n",
    "df_req2['Neighbourhood'] = '';\n",
    "\n",
    "\n",
    "df_req2.reset_index(inplace=True)\n",
    "df_req2.drop('index', axis=1, inplace=True)\n",
    "df_req.reset_index(inplace=True)\n",
    "df_req.drop('index', axis=1, inplace=True)\n",
    "\n",
    "for i in df_req2.index:\n",
    "    for j in df_req.index:\n",
    "        if df_req2.iloc[i, 0] == df_req.iloc[j, 0]:\n",
    "            df_req2.iloc[i, 1] = df_req.iloc[j, 1]\n",
    "            df_req2.iloc[i, 2] = df_req2.iloc[i, 2] + ',' + df_req.iloc[j, 2]\n",
    "            \n",
    "for i in df_req2.index:\n",
    "    s = df_req2.iloc[i, 2]\n",
    "    if s[0] == ',':\n",
    "        s =s [1:]\n",
    "    df_req2.iloc[i,2 ] = s\n",
    "\n",
    "df_req2.head()"
   ]
  },
  {
   "cell_type": "code",
   "execution_count": 11,
   "metadata": {},
   "outputs": [
    {
     "name": "stdout",
     "output_type": "stream",
     "text": [
      "Collecting geocoder\n",
      "\u001b[?25l  Downloading https://files.pythonhosted.org/packages/4f/6b/13166c909ad2f2d76b929a4227c952630ebaf0d729f6317eb09cbceccbab/geocoder-1.38.1-py2.py3-none-any.whl (98kB)\n",
      "\u001b[K     |████████████████████████████████| 102kB 18.6MB/s ta 0:00:01\n",
      "\u001b[?25hCollecting ratelim (from geocoder)\n",
      "  Downloading https://files.pythonhosted.org/packages/f2/98/7e6d147fd16a10a5f821db6e25f192265d6ecca3d82957a4fdd592cad49c/ratelim-0.1.6-py2.py3-none-any.whl\n",
      "Requirement already satisfied: requests in /home/jupyterlab/conda/envs/python/lib/python3.6/site-packages (from geocoder) (2.22.0)\n",
      "Collecting future (from geocoder)\n",
      "\u001b[?25l  Downloading https://files.pythonhosted.org/packages/45/0b/38b06fd9b92dc2b68d58b75f900e97884c45bedd2ff83203d933cf5851c9/future-0.18.2.tar.gz (829kB)\n",
      "\u001b[K     |████████████████████████████████| 829kB 24.2MB/s eta 0:00:01\n",
      "\u001b[?25hRequirement already satisfied: six in /home/jupyterlab/conda/envs/python/lib/python3.6/site-packages (from geocoder) (1.13.0)\n",
      "Collecting click (from geocoder)\n",
      "\u001b[?25l  Downloading https://files.pythonhosted.org/packages/fa/37/45185cb5abbc30d7257104c434fe0b07e5a195a6847506c074527aa599ec/Click-7.0-py2.py3-none-any.whl (81kB)\n",
      "\u001b[K     |████████████████████████████████| 81kB 8.9MB/s  eta 0:00:01\n",
      "\u001b[?25hRequirement already satisfied: decorator in /home/jupyterlab/conda/envs/python/lib/python3.6/site-packages (from ratelim->geocoder) (4.4.1)\n",
      "Requirement already satisfied: urllib3!=1.25.0,!=1.25.1,<1.26,>=1.21.1 in /home/jupyterlab/conda/envs/python/lib/python3.6/site-packages (from requests->geocoder) (1.25.7)\n",
      "Requirement already satisfied: chardet<3.1.0,>=3.0.2 in /home/jupyterlab/conda/envs/python/lib/python3.6/site-packages (from requests->geocoder) (3.0.4)\n",
      "Requirement already satisfied: idna<2.9,>=2.5 in /home/jupyterlab/conda/envs/python/lib/python3.6/site-packages (from requests->geocoder) (2.8)\n",
      "Requirement already satisfied: certifi>=2017.4.17 in /home/jupyterlab/conda/envs/python/lib/python3.6/site-packages (from requests->geocoder) (2019.9.11)\n",
      "Building wheels for collected packages: future\n",
      "  Building wheel for future (setup.py) ... \u001b[?25ldone\n",
      "\u001b[?25h  Stored in directory: /home/jupyterlab/.cache/pip/wheels/8b/99/a0/81daf51dcd359a9377b110a8a886b3895921802d2fc1b2397e\n",
      "Successfully built future\n",
      "Installing collected packages: ratelim, future, click, geocoder\n",
      "Successfully installed click-7.0 future-0.18.2 geocoder-1.38.1 ratelim-0.1.6\n",
      "Requirement already satisfied: folium in /home/jupyterlab/conda/envs/python/lib/python3.6/site-packages (0.5.0)\n",
      "Requirement already satisfied: branca in /home/jupyterlab/conda/envs/python/lib/python3.6/site-packages (from folium) (0.3.1)\n",
      "Requirement already satisfied: jinja2 in /home/jupyterlab/conda/envs/python/lib/python3.6/site-packages (from folium) (2.10.3)\n",
      "Requirement already satisfied: requests in /home/jupyterlab/conda/envs/python/lib/python3.6/site-packages (from folium) (2.22.0)\n",
      "Requirement already satisfied: six in /home/jupyterlab/conda/envs/python/lib/python3.6/site-packages (from folium) (1.13.0)\n",
      "Requirement already satisfied: MarkupSafe>=0.23 in /home/jupyterlab/conda/envs/python/lib/python3.6/site-packages (from jinja2->folium) (1.1.1)\n",
      "Requirement already satisfied: urllib3!=1.25.0,!=1.25.1,<1.26,>=1.21.1 in /home/jupyterlab/conda/envs/python/lib/python3.6/site-packages (from requests->folium) (1.25.7)\n",
      "Requirement already satisfied: chardet<3.1.0,>=3.0.2 in /home/jupyterlab/conda/envs/python/lib/python3.6/site-packages (from requests->folium) (3.0.4)\n",
      "Requirement already satisfied: idna<2.9,>=2.5 in /home/jupyterlab/conda/envs/python/lib/python3.6/site-packages (from requests->folium) (2.8)\n",
      "Requirement already satisfied: certifi>=2017.4.17 in /home/jupyterlab/conda/envs/python/lib/python3.6/site-packages (from requests->folium) (2019.9.11)\n"
     ]
    }
   ],
   "source": [
    "import sys\n",
    "!{sys.executable} -m pip install geocoder\n",
    "!{sys.executable} -m pip install folium"
   ]
  },
  {
   "cell_type": "code",
   "execution_count": 12,
   "metadata": {},
   "outputs": [
    {
     "data": {
      "text/plain": [
       "[43.70949500000006, -79.36398897099997]"
      ]
     },
     "execution_count": 12,
     "metadata": {},
     "output_type": "execute_result"
    }
   ],
   "source": [
    "import geocoder\n",
    "def get_latlng(postal_code):\n",
    "    lat_lng_coords = None\n",
    "    while(lat_lng_coords is None):\n",
    "        g = geocoder.arcgis('{}, Toronto, Ontario'.format(postal_code))\n",
    "        lat_lng_coords = g.latlng\n",
    "    return lat_lng_coords\n",
    "get_latlng('M4G')"
   ]
  },
  {
   "cell_type": "code",
   "execution_count": 13,
   "metadata": {},
   "outputs": [
    {
     "data": {
      "text/html": [
       "<div>\n",
       "<style scoped>\n",
       "    .dataframe tbody tr th:only-of-type {\n",
       "        vertical-align: middle;\n",
       "    }\n",
       "\n",
       "    .dataframe tbody tr th {\n",
       "        vertical-align: top;\n",
       "    }\n",
       "\n",
       "    .dataframe thead th {\n",
       "        text-align: right;\n",
       "    }\n",
       "</style>\n",
       "<table border=\"1\" class=\"dataframe\">\n",
       "  <thead>\n",
       "    <tr style=\"text-align: right;\">\n",
       "      <th></th>\n",
       "      <th>Postcode</th>\n",
       "      <th>Borough</th>\n",
       "      <th>Neighbourhood</th>\n",
       "      <th>Latitude</th>\n",
       "      <th>Longitude</th>\n",
       "    </tr>\n",
       "  </thead>\n",
       "  <tbody>\n",
       "    <tr>\n",
       "      <th>0</th>\n",
       "      <td>M1B</td>\n",
       "      <td>Scarborough</td>\n",
       "      <td>Rouge,Malvern</td>\n",
       "      <td>43.811525</td>\n",
       "      <td>-79.195517</td>\n",
       "    </tr>\n",
       "    <tr>\n",
       "      <th>1</th>\n",
       "      <td>M1C</td>\n",
       "      <td>Scarborough</td>\n",
       "      <td>Highland Creek,Rouge Hill,Port Union</td>\n",
       "      <td>43.785665</td>\n",
       "      <td>-79.158725</td>\n",
       "    </tr>\n",
       "    <tr>\n",
       "      <th>2</th>\n",
       "      <td>M1E</td>\n",
       "      <td>Scarborough</td>\n",
       "      <td>Guildwood,Morningside,West Hill</td>\n",
       "      <td>43.765815</td>\n",
       "      <td>-79.175193</td>\n",
       "    </tr>\n",
       "    <tr>\n",
       "      <th>3</th>\n",
       "      <td>M1G</td>\n",
       "      <td>Scarborough</td>\n",
       "      <td>Woburn</td>\n",
       "      <td>43.768369</td>\n",
       "      <td>-79.217590</td>\n",
       "    </tr>\n",
       "    <tr>\n",
       "      <th>4</th>\n",
       "      <td>M1H</td>\n",
       "      <td>Scarborough</td>\n",
       "      <td>Cedarbrae</td>\n",
       "      <td>43.769688</td>\n",
       "      <td>-79.239440</td>\n",
       "    </tr>\n",
       "  </tbody>\n",
       "</table>\n",
       "</div>"
      ],
      "text/plain": [
       "  Postcode      Borough                         Neighbourhood   Latitude  \\\n",
       "0      M1B  Scarborough                         Rouge,Malvern  43.811525   \n",
       "1      M1C  Scarborough  Highland Creek,Rouge Hill,Port Union  43.785665   \n",
       "2      M1E  Scarborough       Guildwood,Morningside,West Hill  43.765815   \n",
       "3      M1G  Scarborough                                Woburn  43.768369   \n",
       "4      M1H  Scarborough                             Cedarbrae  43.769688   \n",
       "\n",
       "   Longitude  \n",
       "0 -79.195517  \n",
       "1 -79.158725  \n",
       "2 -79.175193  \n",
       "3 -79.217590  \n",
       "4 -79.239440  "
      ]
     },
     "execution_count": 13,
     "metadata": {},
     "output_type": "execute_result"
    }
   ],
   "source": [
    "postal_codes = df_req2['Postcode']    \n",
    "coords = [ get_latlng(postal_code) for postal_code in postal_codes.tolist() ]\n",
    "df_coords = pd.DataFrame(coords, columns=['Latitude', 'Longitude'])\n",
    "df_req2['Latitude'] = df_coords['Latitude']\n",
    "df_req2['Longitude'] = df_coords['Longitude']\n",
    "df_req2.head()"
   ]
  },
  {
   "cell_type": "code",
   "execution_count": 15,
   "metadata": {},
   "outputs": [],
   "source": [
    "TorontoData  = df_req2"
   ]
  },
  {
   "cell_type": "code",
   "execution_count": 16,
   "metadata": {},
   "outputs": [
    {
     "data": {
      "text/html": [
       "<div style=\"width:100%;\"><div style=\"position:relative;width:100%;height:0;padding-bottom:60%;\"><iframe src=\"data:text/html;charset=utf-8;base64,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\" style=\"position:absolute;width:100%;height:100%;left:0;top:0;border:none !important;\" allowfullscreen webkitallowfullscreen mozallowfullscreen></iframe></div></div>"
      ],
      "text/plain": [
       "<folium.folium.Map at 0x7f6974b555c0>"
      ]
     },
     "execution_count": 16,
     "metadata": {},
     "output_type": "execute_result"
    }
   ],
   "source": [
    "toronto_map = folium.Map(location=[43.65, -79.4], zoom_start=12)\n",
    "\n",
    "X = TorontoData['Latitude']\n",
    "Y = TorontoData['Longitude']\n",
    "Z = np.stack((X, Y), axis=1)\n",
    "\n",
    "kmeans = KMeans(n_clusters=4, random_state=0).fit(Z)\n",
    "\n",
    "clusters = kmeans.labels_\n",
    "colors = ['red', 'green', 'blue', 'yellow']\n",
    "TorontoData['Cluster'] = clusters\n",
    "\n",
    "for latitude, longitude, borough, cluster in zip(TorontoData['Latitude'], TorontoData['Longitude'], TorontoData['Borough'], TorontoData['Cluster']):\n",
    "    label = folium.Popup(borough, parse_html=True)\n",
    "    folium.CircleMarker(\n",
    "        [latitude, longitude],\n",
    "        radius=4,\n",
    "        popup=label,\n",
    "        color='red',\n",
    "        fill=True,\n",
    "        fill_color=colors[cluster],\n",
    "        fill_opacity=0.8).add_to(toronto_map)  \n",
    "\n",
    "toronto_map"
   ]
  },
  {
   "cell_type": "code",
   "execution_count": null,
   "metadata": {},
   "outputs": [],
   "source": []
  }
 ],
 "metadata": {
  "kernelspec": {
   "display_name": "Python",
   "language": "python",
   "name": "conda-env-python-py"
  },
  "language_info": {
   "codemirror_mode": {
    "name": "ipython",
    "version": 3
   },
   "file_extension": ".py",
   "mimetype": "text/x-python",
   "name": "python",
   "nbconvert_exporter": "python",
   "pygments_lexer": "ipython3",
   "version": "3.6.7"
  }
 },
 "nbformat": 4,
 "nbformat_minor": 4
}
