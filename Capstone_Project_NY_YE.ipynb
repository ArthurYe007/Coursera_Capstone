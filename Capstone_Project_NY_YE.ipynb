{
 "cells": [
  {
   "cell_type": "markdown",
   "metadata": {},
   "source": [
    "# **CAPSTONE PROJECT IN NY**"
   ]
  },
  {
   "cell_type": "markdown",
   "metadata": {},
   "source": [
    "## **By Arthur Ye**"
   ]
  },
  {
   "cell_type": "markdown",
   "metadata": {},
   "source": [
    "<img src=\"https://scontent.fsan1-1.fna.fbcdn.net/v/t1.0-9/p720x720/82957017_2950790718277850_5324816671653756928_o.jpg?_nc_cat=106&_nc_ohc=Pvp6ilX5GS4AX-Rwe2m&_nc_ht=scontent.fsan1-1.fna&_nc_tp=6&oh=deb89b0f9edee6c1947741bed11be7a0&oe=5ED6F94B\">"
   ]
  },
  {
   "cell_type": "markdown",
   "metadata": {},
   "source": [
    "##   "
   ]
  },
  {
   "cell_type": "markdown",
   "metadata": {},
   "source": [
    "## __Introduction__"
   ]
  },
  {
   "cell_type": "markdown",
   "metadata": {},
   "source": [
    "### New York City(NYC), 40.7128° N, 74.0060° W, is the most populous city in the United States, with a population of 8.6 million estimated in 2019 distributed over a land area of 303 square miles. There are 5 boroughs within NYC confined by the Hudson River and the Atlantic Ocean. At its center is Manhattan, a densely populated city that is one of the world's largest commercial, cultural and financial district. Being the financial center of United States, NYC records an average Gross Domestic Product (GDP) of US$842.3 billion. \n",
    "\n",
    "### In this particular capstone project, one is looking to open a restaurant in NYC, based on the valuable and available data online,to provide detailed analysis in order to recommend the location. Similarly, if a contractor is trying to start a business in NYC, where would be an ideal neighborhood to launch the business. \n",
    "\n",
    "<img src=\"https://miro.medium.com/max/1200/1*o77vgUxSopaFSuqa5UFBCw.gif\">"
   ]
  },
  {
   "cell_type": "markdown",
   "metadata": {},
   "source": [
    "##  "
   ]
  },
  {
   "cell_type": "markdown",
   "metadata": {},
   "source": [
    "## __Data & Methodology__"
   ]
  },
  {
   "cell_type": "markdown",
   "metadata": {},
   "source": [
    "### data from New York University (NYU) will be utilized for the purpose of this project. The available source is called \"2016 New York City Neighborhood Tabulation Area\". The shapefile was created to project populations at a small area level, from 2000 to 2030 for PlaNYC, the long-term sustainability plan for New York City. Since population size affects the error associated with population projections, these geographic units needed to have a minimum population, which we determined to be 15,000. This criterion resulted in combinations of neighborhoods that probably would not occur if one were solely designating boundaries of historical neighborhoods. \n",
    "\n",
    "### **\"https://geo.nyu.edu/catalog/nyu-2451-34561\"**\n",
    "\n",
    "\n",
    "### On the other hand, \"2014 New York City Neighborhood Names\" data is also obtained from NYU to identify the 306 neighborhoods within 5 boroughs in NYC. The file was created at a guide to the NYC's neighborhoods that appear on the web source, which includes information such as industry structure, population, area, trade value and etc. \n",
    "\n",
    "### **https://geo.nyu.edu/catalog/nyu-2451-34572**\n",
    "\n",
    "\n",
    "### Lastly, Foursquare API, a local search-and-discovery mobile application developed by Foursquare Labs Inc. The application provides personalized recommendations of places using user's current location, based on users' previous browsing history and check-in history. \n",
    "\n",
    "### **https://developer.foursquare.com/docs/api/endpoints**\n",
    "\n",
    "\n",
    "### fortunately, the data obtained from NYU are in Json format, which means it can be easily transferred and interpreted by Jupyter Note Book. However, the data will require some wangling and clean-up work with Pandas dataframe. Applying Foursquare API, the project will identify the key venues of each cities in NYC, by obtaining their longitude and latitude values, specifically those related to economic activities, to identify the more common types of venues in each cities. In combination with the \"2016 ew York City Neighborhood Tabulation Area\" data, the study will perform clustering analysis on the citiies to separate the cities in total into various clusters, and identify each of their strategic strength area through analysis of their characterstics. Furthermore, by applying folium package, a geographical map can be demonstrated to visualize the clusters of venues. "
   ]
  },
  {
   "cell_type": "code",
   "execution_count": null,
   "metadata": {},
   "outputs": [],
   "source": []
  }
 ],
 "metadata": {
  "kernelspec": {
   "display_name": "Python",
   "language": "python",
   "name": "conda-env-python-py"
  },
  "language_info": {
   "codemirror_mode": {
    "name": "ipython",
    "version": 3
   },
   "file_extension": ".py",
   "mimetype": "text/x-python",
   "name": "python",
   "nbconvert_exporter": "python",
   "pygments_lexer": "ipython3",
   "version": "3.6.7"
  }
 },
 "nbformat": 4,
 "nbformat_minor": 4
}
